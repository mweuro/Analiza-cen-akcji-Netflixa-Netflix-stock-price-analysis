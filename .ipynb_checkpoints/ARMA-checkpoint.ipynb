{
 "cells": [
  {
   "cell_type": "markdown",
   "id": "ec6fe28c",
   "metadata": {},
   "source": [
    "# Singapore rainfall analysis with ARMA"
   ]
  },
  {
   "cell_type": "code",
   "execution_count": 2,
   "id": "667fbe4d",
   "metadata": {},
   "outputs": [
    {
     "ename": "ModuleNotFoundError",
     "evalue": "No module named 'plotly'",
     "output_type": "error",
     "traceback": [
      "\u001b[1;31m---------------------------------------------------------------------------\u001b[0m",
      "\u001b[1;31mModuleNotFoundError\u001b[0m                       Traceback (most recent call last)",
      "\u001b[1;32m~\\AppData\\Local\\Temp/ipykernel_8424/3660077281.py\u001b[0m in \u001b[0;36m<module>\u001b[1;34m\u001b[0m\n\u001b[0;32m      1\u001b[0m \u001b[1;32mimport\u001b[0m \u001b[0mmatplotlib\u001b[0m\u001b[1;33m.\u001b[0m\u001b[0mpyplot\u001b[0m \u001b[1;32mas\u001b[0m \u001b[0mplt\u001b[0m\u001b[1;33m\u001b[0m\u001b[1;33m\u001b[0m\u001b[0m\n\u001b[1;32m----> 2\u001b[1;33m \u001b[1;32mimport\u001b[0m \u001b[0mplotly\u001b[0m\u001b[1;33m.\u001b[0m\u001b[0mexpress\u001b[0m \u001b[1;32mas\u001b[0m \u001b[0mpx\u001b[0m\u001b[1;33m\u001b[0m\u001b[1;33m\u001b[0m\u001b[0m\n\u001b[0m\u001b[0;32m      3\u001b[0m \u001b[1;32mimport\u001b[0m \u001b[0mnumpy\u001b[0m \u001b[1;32mas\u001b[0m \u001b[0mnp\u001b[0m\u001b[1;33m\u001b[0m\u001b[1;33m\u001b[0m\u001b[0m\n\u001b[0;32m      4\u001b[0m \u001b[1;32mimport\u001b[0m \u001b[0mpandas\u001b[0m \u001b[1;32mas\u001b[0m \u001b[0mpd\u001b[0m\u001b[1;33m\u001b[0m\u001b[1;33m\u001b[0m\u001b[0m\n\u001b[0;32m      5\u001b[0m \u001b[1;32mfrom\u001b[0m \u001b[0mscipy\u001b[0m \u001b[1;32mimport\u001b[0m \u001b[0mstats\u001b[0m\u001b[1;33m\u001b[0m\u001b[1;33m\u001b[0m\u001b[0m\n",
      "\u001b[1;31mModuleNotFoundError\u001b[0m: No module named 'plotly'"
     ]
    }
   ],
   "source": [
    "import matplotlib.pyplot as plt\n",
    "import plotly.express as px\n",
    "import numpy as np\n",
    "import pandas as pd\n",
    "from scipy import stats\n",
    "from statsmodels.tsa.statespace.sarimax import SARIMAX\n",
    "from statsmodels.tsa.stattools import adfuller\n",
    "from statsmodels.graphics.tsaplots import plot_acf\n",
    "from statsmodels.graphics.tsaplots import plot_pacf"
   ]
  },
  {
   "cell_type": "code",
   "execution_count": 2,
   "id": "0abbd0a1",
   "metadata": {},
   "outputs": [
    {
     "data": {
      "text/html": [
       "<div>\n",
       "<style scoped>\n",
       "    .dataframe tbody tr th:only-of-type {\n",
       "        vertical-align: middle;\n",
       "    }\n",
       "\n",
       "    .dataframe tbody tr th {\n",
       "        vertical-align: top;\n",
       "    }\n",
       "\n",
       "    .dataframe thead th {\n",
       "        text-align: right;\n",
       "    }\n",
       "</style>\n",
       "<table border=\"1\" class=\"dataframe\">\n",
       "  <thead>\n",
       "    <tr style=\"text-align: right;\">\n",
       "      <th></th>\n",
       "      <th>month</th>\n",
       "      <th>total_rainfall</th>\n",
       "    </tr>\n",
       "  </thead>\n",
       "  <tbody>\n",
       "    <tr>\n",
       "      <th>0</th>\n",
       "      <td>1982-01</td>\n",
       "      <td>107.1</td>\n",
       "    </tr>\n",
       "    <tr>\n",
       "      <th>1</th>\n",
       "      <td>1982-02</td>\n",
       "      <td>27.8</td>\n",
       "    </tr>\n",
       "    <tr>\n",
       "      <th>2</th>\n",
       "      <td>1982-03</td>\n",
       "      <td>160.8</td>\n",
       "    </tr>\n",
       "    <tr>\n",
       "      <th>3</th>\n",
       "      <td>1982-04</td>\n",
       "      <td>157.0</td>\n",
       "    </tr>\n",
       "    <tr>\n",
       "      <th>4</th>\n",
       "      <td>1982-05</td>\n",
       "      <td>102.2</td>\n",
       "    </tr>\n",
       "    <tr>\n",
       "      <th>...</th>\n",
       "      <td>...</td>\n",
       "      <td>...</td>\n",
       "    </tr>\n",
       "    <tr>\n",
       "      <th>458</th>\n",
       "      <td>2020-03</td>\n",
       "      <td>108.8</td>\n",
       "    </tr>\n",
       "    <tr>\n",
       "      <th>459</th>\n",
       "      <td>2020-04</td>\n",
       "      <td>188.0</td>\n",
       "    </tr>\n",
       "    <tr>\n",
       "      <th>460</th>\n",
       "      <td>2020-05</td>\n",
       "      <td>255.6</td>\n",
       "    </tr>\n",
       "    <tr>\n",
       "      <th>461</th>\n",
       "      <td>2020-06</td>\n",
       "      <td>233.8</td>\n",
       "    </tr>\n",
       "    <tr>\n",
       "      <th>462</th>\n",
       "      <td>2020-07</td>\n",
       "      <td>140.8</td>\n",
       "    </tr>\n",
       "  </tbody>\n",
       "</table>\n",
       "<p>463 rows × 2 columns</p>\n",
       "</div>"
      ],
      "text/plain": [
       "       month  total_rainfall\n",
       "0    1982-01           107.1\n",
       "1    1982-02            27.8\n",
       "2    1982-03           160.8\n",
       "3    1982-04           157.0\n",
       "4    1982-05           102.2\n",
       "..       ...             ...\n",
       "458  2020-03           108.8\n",
       "459  2020-04           188.0\n",
       "460  2020-05           255.6\n",
       "461  2020-06           233.8\n",
       "462  2020-07           140.8\n",
       "\n",
       "[463 rows x 2 columns]"
      ]
     },
     "execution_count": 2,
     "metadata": {},
     "output_type": "execute_result"
    }
   ],
   "source": [
    "df = pd.read_csv('rainfall.csv')\n",
    "df"
   ]
  },
  {
   "cell_type": "code",
   "execution_count": 3,
   "id": "b9371556",
   "metadata": {},
   "outputs": [
    {
     "data": {
      "image/png": "[encoded data removed]",
      "text/plain": [
       "<Figure size 432x288 with 1 Axes>"
      ]
     },
     "metadata": {
      "needs_background": "light"
     },
     "output_type": "display_data"
    }
   ],
   "source": [
    "df2 = pd.read_csv('NFLX.csv')\n",
    "plt.plot([*range(len(df2.Date.values))], df2.Open.values)\n",
    "plt.show()"
   ]
  },
  {
   "cell_type": "markdown",
   "id": "a80c1d47",
   "metadata": {},
   "source": [
    "# Data visualisation"
   ]
  },
  {
   "cell_type": "code",
   "execution_count": 114,
   "id": "8f04512d",
   "metadata": {},
   "outputs": [
    {
     "data": {
      "image/png": "[encoded data removed]",
      "text/plain": [
       "<Figure size 432x288 with 1 Axes>"
      ]
     },
     "metadata": {
      "needs_background": "light"
     },
     "output_type": "display_data"
    }
   ],
   "source": [
    "# date = df.month.values\n",
    "# rainfall = df.total_rainfall.values\n",
    "date = [*range(len(df2.Date.values))]\n",
    "rainfall = df2.Open.values\n",
    "\n",
    "plt.plot(date, rainfall)\n",
    "plt.show()"
   ]
  },
  {
   "cell_type": "markdown",
   "id": "b38d719f",
   "metadata": {},
   "source": [
    "# Data preparation"
   ]
  },
  {
   "cell_type": "markdown",
   "id": "92487c4c",
   "metadata": {},
   "source": [
    "### ACF, PACF for raw data"
   ]
  },
  {
   "cell_type": "code",
   "execution_count": 115,
   "id": "b8660c3e",
   "metadata": {},
   "outputs": [
    {
     "data": {
      "image/png": "[encoded data removed]",
      "text/plain": [
       "<Figure size 720x576 with 2 Axes>"
      ]
     },
     "metadata": {
      "needs_background": "light"
     },
     "output_type": "display_data"
    }
   ],
   "source": [
    "width = 10\n",
    "height = 4\n",
    "\n",
    "f, ax = plt.subplots(nrows=2, ncols=1, figsize=(width, 2*height))\n",
    "plot_acf(rainfall, lags = 15, ax=ax[0])\n",
    "plot_pacf(rainfall, lags = 15, ax=ax[1], method='ols')\n",
    "plt.show()"
   ]
  },
  {
   "cell_type": "markdown",
   "id": "5378ad0a",
   "metadata": {},
   "source": [
    "### ADF test - for stationarity"
   ]
  },
  {
   "cell_type": "code",
   "execution_count": 116,
   "id": "67513732",
   "metadata": {},
   "outputs": [],
   "source": [
    "def adf(data):\n",
    "    adf = adfuller(data)\n",
    "    print('Test statistic: ' +  str(adf[0]))\n",
    "    print('P-value: ' +  str(adf[1]))"
   ]
  },
  {
   "cell_type": "code",
   "execution_count": 117,
   "id": "57603596",
   "metadata": {},
   "outputs": [
    {
     "name": "stdout",
     "output_type": "stream",
     "text": [
      "Test statistic: -1.3336726659953988\n",
      "P-value: 0.6136297419105514\n",
      "Series is not stationary\n"
     ]
    }
   ],
   "source": [
    "adf(rainfall)\n",
    "print('Series is not stationary')"
   ]
  },
  {
   "cell_type": "markdown",
   "id": "4c74c66b",
   "metadata": {},
   "source": [
    "### Variance stabilization - Box-Cox Transformation"
   ]
  },
  {
   "cell_type": "code",
   "execution_count": 118,
   "id": "e85b7ab7",
   "metadata": {},
   "outputs": [],
   "source": [
    "rainfall2, lmb = stats.boxcox(rainfall)"
   ]
  },
  {
   "cell_type": "code",
   "execution_count": 119,
   "id": "da9c7c16",
   "metadata": {
    "scrolled": true
   },
   "outputs": [
    {
     "data": {
      "text/plain": [
       "[<matplotlib.lines.Line2D at 0x23e26d72160>]"
      ]
     },
     "execution_count": 119,
     "metadata": {},
     "output_type": "execute_result"
    },
    {
     "data": {
      "image/png": "[encoded data removed]",
      "text/plain": [
       "<Figure size 432x288 with 1 Axes>"
      ]
     },
     "metadata": {
      "needs_background": "light"
     },
     "output_type": "display_data"
    }
   ],
   "source": [
    "plt.plot(date, rainfall2)"
   ]
  },
  {
   "cell_type": "code",
   "execution_count": 120,
   "id": "676e43c9",
   "metadata": {},
   "outputs": [
    {
     "name": "stdout",
     "output_type": "stream",
     "text": [
      "Test statistic: -1.2386174750248522\n",
      "P-value: 0.6567668529876127\n",
      "Series is not stationary\n"
     ]
    }
   ],
   "source": [
    "adf(rainfall2)\n",
    "print('Series is not stationary')"
   ]
  },
  {
   "cell_type": "markdown",
   "id": "9bb7c2dc",
   "metadata": {},
   "source": [
    "### Histograms of data (before and after Box-Cox Transformation)"
   ]
  },
  {
   "cell_type": "code",
   "execution_count": 121,
   "id": "a40516b9",
   "metadata": {},
   "outputs": [
    {
     "data": {
      "image/png": "[encoded data removed]",
      "text/plain": [
       "<Figure size 432x288 with 1 Axes>"
      ]
     },
     "metadata": {
      "needs_background": "light"
     },
     "output_type": "display_data"
    }
   ],
   "source": [
    "plt.hist(rainfall, bins = 20)\n",
    "plt.show()"
   ]
  },
  {
   "cell_type": "code",
   "execution_count": 122,
   "id": "15ae4dfd",
   "metadata": {},
   "outputs": [
    {
     "data": {
      "image/png": "[encoded data removed]",
      "text/plain": [
       "<Figure size 432x288 with 1 Axes>"
      ]
     },
     "metadata": {
      "needs_background": "light"
     },
     "output_type": "display_data"
    }
   ],
   "source": [
    "plt.hist(rainfall2, bins = 20)\n",
    "plt.show()"
   ]
  },
  {
   "cell_type": "markdown",
   "id": "a747e60d",
   "metadata": {},
   "source": [
    "### Trend decomposition"
   ]
  },
  {
   "cell_type": "code",
   "execution_count": 123,
   "id": "f796ddd2",
   "metadata": {},
   "outputs": [],
   "source": [
    "def trend(data):\n",
    "    array1 = data[:1]\n",
    "    array2 = data[1:] - data[:(len(data) - 1)]\n",
    "    return np.array(list(array1) + list(array2))"
   ]
  },
  {
   "cell_type": "code",
   "execution_count": 124,
   "id": "2cad0577",
   "metadata": {},
   "outputs": [
    {
     "data": {
      "image/png": "[encoded data removed]",
      "text/plain": [
       "<Figure size 432x288 with 1 Axes>"
      ]
     },
     "metadata": {
      "needs_background": "light"
     },
     "output_type": "display_data"
    }
   ],
   "source": [
    "rainfall3 = trend(rainfall2)\n",
    "plt.plot(date, rainfall3)\n",
    "plt.show()"
   ]
  },
  {
   "cell_type": "code",
   "execution_count": 125,
   "id": "a1a85725",
   "metadata": {},
   "outputs": [
    {
     "name": "stdout",
     "output_type": "stream",
     "text": [
      "Test statistic: -31.696922569094905\n",
      "P-value: 0.0\n",
      "Series is stationary\n"
     ]
    }
   ],
   "source": [
    "adf(rainfall3)\n",
    "print('Series is stationary')"
   ]
  },
  {
   "cell_type": "markdown",
   "id": "d641017e",
   "metadata": {},
   "source": [
    "### Seasonality decomposition (it's not necessary, there is not visible seasonality)"
   ]
  },
  {
   "cell_type": "code",
   "execution_count": 126,
   "id": "66805103",
   "metadata": {},
   "outputs": [],
   "source": [
    "def season(data, m = 200):\n",
    "    array1 = data[:m]\n",
    "    array2 = data[m:] - data[:(len(data) - m)]\n",
    "    return np.array(list(array1) + list(array2))"
   ]
  },
  {
   "cell_type": "code",
   "execution_count": 127,
   "id": "cc22c006",
   "metadata": {
    "scrolled": true
   },
   "outputs": [],
   "source": [
    "# rainfall4 = season(rainfall3)\n",
    "# plt.plot(date, rainfall4)\n",
    "# plt.show()\n"
   ]
  },
  {
   "cell_type": "code",
   "execution_count": 128,
   "id": "aaa5eda8",
   "metadata": {},
   "outputs": [],
   "source": [
    "# adf(rainfall4)\n",
    "# print('Series is stationary')"
   ]
  },
  {
   "cell_type": "markdown",
   "id": "664789ba",
   "metadata": {},
   "source": [
    "### ACF, PACF for decomposed data"
   ]
  },
  {
   "cell_type": "code",
   "execution_count": 129,
   "id": "22057c21",
   "metadata": {},
   "outputs": [
    {
     "data": {
      "image/png": "[encoded data removed]",
      "text/plain": [
       "<Figure size 720x576 with 2 Axes>"
      ]
     },
     "metadata": {
      "needs_background": "light"
     },
     "output_type": "display_data"
    }
   ],
   "source": [
    "width = 10\n",
    "height = 4\n",
    "\n",
    "f, ax = plt.subplots(nrows=2, ncols=1, figsize=(width, 2*height))\n",
    "plot_acf(rainfall3, lags = 15, ax=ax[0])\n",
    "plot_pacf(rainfall3, lags = 15, ax=ax[1], method='ols')\n",
    "plt.show()"
   ]
  },
  {
   "cell_type": "markdown",
   "id": "ce350c03",
   "metadata": {},
   "source": [
    "# Fitting ARMA model"
   ]
  },
  {
   "cell_type": "code",
   "execution_count": null,
   "id": "f77efbc4",
   "metadata": {},
   "outputs": [],
   "source": [
    "def optimize_ARIMA(order_list, exog):\n",
    "    \"\"\"\n",
    "        Return dataframe with parameters and corresponding AIC\n",
    "        \n",
    "        order_list - list with (p, d, q) tuples\n",
    "        exog - the exogenous variable\n",
    "    \"\"\"\n",
    "    \n",
    "    results = []\n",
    "    \n",
    "    for order in tqdm_notebook(order_list):\n",
    "        try: \n",
    "            model = SARIMAX(exog, order=order).fit(disp=-1)\n",
    "        except:\n",
    "            continue\n",
    "            \n",
    "        aic = model.aic\n",
    "        results.append([order, model.aic])\n",
    "        \n",
    "    result_df = pd.DataFrame(results)\n",
    "    result_df.columns = ['(p, d, q)', 'AIC']\n",
    "    #Sort in ascending order, lower AIC is better\n",
    "    result_df = result_df.sort_values(by='AIC', ascending=True).reset_index(drop=True)\n",
    "    \n",
    "    return result_df"
   ]
  },
  {
   "cell_type": "code",
   "execution_count": null,
   "id": "d43ca1a0",
   "metadata": {},
   "outputs": [],
   "source": [
    "def fit_ARIMA(pmax = 20, qmax = 20, d = 1):\n",
    "    rows = []\n",
    "    for p in range(1, pmax + 1):\n",
    "        row = []\n",
    "        for p in range(1, pmax + 1):\n",
    "            params = (p, d, q)\n",
    "            model = SARIMAX(exog, order=order).fit(disp=-1)\n",
    "            row.append(params)\n",
    "        rows.append(row)"
   ]
  },
  {
   "cell_type": "markdown",
   "id": "05b7e917",
   "metadata": {},
   "source": [
    "# Rating our ARMA model"
   ]
  },
  {
   "cell_type": "code",
   "execution_count": 130,
   "id": "090dcf01",
   "metadata": {},
   "outputs": [
    {
     "name": "stdout",
     "output_type": "stream",
     "text": [
      "[0, 1, 2, 3, 4, 5, 6, 7, 8, 9, 10, 11, 12, 13, 14, 15, 16, 17, 18, 19]\n"
     ]
    }
   ],
   "source": [
    "print([*range(20)])"
   ]
  },
  {
   "cell_type": "markdown",
   "id": "075631d2",
   "metadata": {},
   "source": [
    "# Residuum analysis"
   ]
  },
  {
   "cell_type": "code",
   "execution_count": null,
   "id": "fc6ab4b5",
   "metadata": {},
   "outputs": [],
   "source": []
  },
  {
   "cell_type": "markdown",
   "id": "76f01b73",
   "metadata": {},
   "source": [
    "# Conclusion"
   ]
  },
  {
   "cell_type": "code",
   "execution_count": null,
   "id": "7ba3f576",
   "metadata": {},
   "outputs": [],
   "source": []
  },
  {
   "cell_type": "markdown",
   "id": "dde53d93",
   "metadata": {},
   "source": [
    "# References"
   ]
  },
  {
   "cell_type": "markdown",
   "id": "4b2038ec",
   "metadata": {},
   "source": [
    "https://www.statology.org/dickey-fuller-test-python/\n",
    "\n",
    "https://el.us.edu.pl/ekonofizyka/index.php/Analiza_Szereg%C3%B3w_Czasowych/Dekompozycja_szeregu_czasowego#Metoda_S3:_R.C3.B3.C5.BCnicowanie_z_przesuni.C4.99ciem_d\n",
    "\n",
    "https://towardsdatascience.com/advanced-time-series-analysis-with-arma-and-arima-a7d9b589ed6d\n",
    "\n",
    "https://plotly.com/python/heatmaps/"
   ]
  },
  {
   "cell_type": "code",
   "execution_count": null,
   "id": "a2638857",
   "metadata": {},
   "outputs": [],
   "source": []
  }
 ],
 "metadata": {
  "kernelspec": {
   "display_name": "Python 3 (ipykernel)",
   "language": "python",
   "name": "python3"
  },
  "language_info": {
   "codemirror_mode": {
    "name": "ipython",
    "version": 3
   },
   "file_extension": ".py",
   "mimetype": "text/x-python",
   "name": "python",
   "nbconvert_exporter": "python",
   "pygments_lexer": "ipython3",
   "version": "3.9.7"
  }
 },
 "nbformat": 4,
 "nbformat_minor": 5
}
